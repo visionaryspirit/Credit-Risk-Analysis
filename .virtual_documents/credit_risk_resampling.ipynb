


# Import the modules
import numpy as np
import pandas as pd
from pathlib import Path
from sklearn.metrics import balanced_accuracy_score
from sklearn.metrics import confusion_matrix
from imblearn.metrics import classification_report_imbalanced
from sklearn.preprocessing import StandardScaler
import warnings
warnings.filterwarnings('ignore')











# Read the CSV file from the Resources folder into a Pandas DataFrame
lending_data =pd.read_csv(
    Path('Resources/lending_data.csv')
)    
    
# Review the DataFrame
display(lending_data.head())
display(lending_data.tail())





# Separate the data into labels and features

# Separate the y variable, the labels
y = lending_data['loan_status']

# Separate the X variable, the features
X = lending_data.drop(columns=['loan_status'])


# Review the y variable Series
display(y.head())
display(y.tail())


# Review the X variable DataFrame
display(X.head())
display(X.tail())





# Check the balance of our target values
y.value_counts()





# Import the train_test_learn module
from sklearn.model_selection import train_test_split

# Split the data using train_test_split
# Assign a random_state of 1 to the function

X_train, X_test, y_train, y_test = train_test_split(X,
                                                    y,
                                                    random_state=1,
                                                    stratify=y)


# Instantiate a StandardScaler instance
#scaler = StandardScaler()

# Fit the training data to the standard scaler
#X_scaler = scaler.fit(X_train)

# Transform the training data using the scaler
#X_train_scaled = X_scaler.transform(X_train)

# Transform the testing data using the scaler
#X_test_scaled = X_scaler.transform(X_test)











# Import the LogisticRegression module from SKLearn
from sklearn.linear_model import LogisticRegression

# Instantiate the Logistic Regression model
# Assign a random_state parameter of 1 to the model
classifier =LogisticRegression(solver='lbfgs', random_state=1)
# Fit the model using training data
classifier.fit(X_train, y_train)





# Make a prediction using the testing data
predictions = classifier.predict(X_test)
df = pd.DataFrame({'Prediction': predictions, 'Actual': y_test})
display(df.head())
display(df.tail())





# Print the balanced_accuracy score of the model
original_balanced_accuracy_score = balanced_accuracy_score(y_test, predictions)
original_balanced_accuracy_score


# Generate a confusion matrix for the model
original_confusion_matrix = confusion_matrix(y_test, predictions)
original_confusion_matrix


# Print the classification report for the model
original_classification_report = classification_report_imbalanced(y_test, predictions)
print(original_classification_report)

















# Import the RandomOverSampler module form imbalanced-learn
from imblearn.over_sampling import RandomOverSampler

# Instantiate the random oversampler model
# # Assign a random_state parameter of 1 to the model
ros = RandomOverSampler(random_state=1)
# Fit the original training data to the random_oversampler model
X_oversampled, y_oversampled = ros.fit_resample(X_train, y_train)


# Count the distinct values of the resampled labels data
y_oversampled.value_counts()





# Instantiate the Logistic Regression model
# Assign a random_state parameter of 1 to the model
classifier_resampled =LogisticRegression(solver='lbfgs', random_state=1)

# Fit the model using the resampled training data
classifier_resampled.fit(X_oversampled, y_oversampled)

# Make a prediction using the testing data
predictions_resampled = classifier_resampled.predict(X_test)
df_resampled = pd.DataFrame({'Prediction Resampled': predictions_resampled, 'Actual': y_test})
display(df_resampled.head())
display(df_resampled.tail())





# Print the balanced_accuracy score of the model 
resampled_balanced_accuracy_score = balanced_accuracy_score(y_test, predictions_resampled)
resampled_balanced_accuracy_score


# Generate a confusion matrix for the model
resampled_confusion_matrix = confusion_matrix(y_test, predictions_resampled)
resampled_confusion_matrix


# Print the classification report for the model
resampled_classification_report = classification_report_imbalanced(y_test, predictions_resampled)
print(resampled_classification_report)






